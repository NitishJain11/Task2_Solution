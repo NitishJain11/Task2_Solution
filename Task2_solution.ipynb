{
 "cells": [
  {
   "cell_type": "code",
   "execution_count": 2,
   "id": "773e05c0-189a-4927-9513-eb813458c2c3",
   "metadata": {},
   "outputs": [
    {
     "name": "stdout",
     "output_type": "stream",
     "text": [
      "h2ry3423QaA@!# password is valid\n",
      "hinbr2 password is invalid\n"
     ]
    }
   ],
   "source": [
    "# Q1 ->solution\n",
    "def check_password(string)->str:\n",
    "    u_count =0\n",
    "    L_count =0\n",
    "    P_count=0\n",
    "    N_count=0\n",
    "    list_punctuation =['!', '\"', '#', '$', '%', '&', \"'\", '(', ')', '*', '+', ',', '-', '.',\n",
    "    '/', ':', ';', '<', '=', '>', '?', '@', '[', '\\\\', ']', '^', '_', '`', '{', '|', '}', '~']\n",
    "    for i in range(len(string)):\n",
    "        if string[i].isupper()==True:\n",
    "            u_count +=1\n",
    "        if string[i].islower()==True:\n",
    "            L_count +=1\n",
    "        if string[i] in list_punctuation:\n",
    "            P_count+=1\n",
    "        if string[i].isnumeric()==True:\n",
    "            N_count+=1\n",
    "    if u_count<2 or L_count<2 or P_count<3 or N_count<1 or len(string)<10:\n",
    "        print(string,\"password is invalid\")\n",
    "    else:\n",
    "        print(string,\"password is valid\")\n",
    "my_password1=\"h2ry3423QaA@!#\"\n",
    "my_password2=\"hinbr2\"\n",
    "check_password(my_password1)\n",
    "check_password(my_password2)"
   ]
  },
  {
   "cell_type": "code",
   "execution_count": 4,
   "id": "1f524a95-efa3-4f40-8802-2268ff337d04",
   "metadata": {},
   "outputs": [
    {
     "name": "stdout",
     "output_type": "stream",
     "text": [
      "Is string1 is start with N -> True\n",
      "Is string2 is start with h ->  False\n"
     ]
    }
   ],
   "source": [
    "#1->check if the string start with a particulae letter\n",
    "check =lambda x, y:  x==y[0] \n",
    "string1 =\"Nitish\"\n",
    "string2 = \"Mahima\"\n",
    "print(\"Is string1 is start with N ->\",check('N',string1))\n",
    "print(\"Is string2 is start with h -> \",check('h',string2))"
   ]
  },
  {
   "cell_type": "code",
   "execution_count": 1,
   "id": "2570c214-3560-475b-b259-6deecb26c0b6",
   "metadata": {},
   "outputs": [
    {
     "name": "stdout",
     "output_type": "stream",
     "text": [
      "string 123 is numeric True\n",
      "string 12a3 is numeric False\n"
     ]
    }
   ],
   "source": [
    "#2->check if the string is numeric.\n",
    "is_numeric = lambda string: string.replace('.', '', 1).isdigit()\n",
    "print(\"string 123 is numeric\",is_numeric(\"123\"))       \n",
    "print(\"string 12a3 is numeric\",is_numeric(\"12a3\"))"
   ]
  },
  {
   "cell_type": "code",
   "execution_count": 2,
   "id": "10f96301-e225-4275-bcb4-780bcb7d7f72",
   "metadata": {},
   "outputs": [
    {
     "name": "stdout",
     "output_type": "stream",
     "text": [
      "[('orange', 80), ('mango', 99), ('grapes', 1000)]\n"
     ]
    }
   ],
   "source": [
    "#3->sort a list of tuples having fruit names and their quantity.\n",
    "mylist1=[('mango',99),('orange',80),('grapes',1000)]\n",
    "mylist1.sort(key= lambda x:x[1])\n",
    "print(mylist1)"
   ]
  },
  {
   "cell_type": "code",
   "execution_count": 3,
   "id": "1439ef4e-bc0b-421c-a461-9ef8d0fb8825",
   "metadata": {},
   "outputs": [
    {
     "name": "stdout",
     "output_type": "stream",
     "text": [
      "[1, 4, 9, 16, 25, 36, 49, 64, 81, 100]\n"
     ]
    }
   ],
   "source": [
    "#3->find the squar of numbers from 1 to 100.\n",
    "print(list(i**2 for i in range(1,11)))"
   ]
  },
  {
   "cell_type": "code",
   "execution_count": 4,
   "id": "d8769888-dec1-4faf-92d3-ae60ce8cf416",
   "metadata": {},
   "outputs": [
    {
     "name": "stdout",
     "output_type": "stream",
     "text": [
      "[1.0, 1.2599210498948732, 1.4422495703074083, 1.5874010519681994, 1.7099759466766968, 1.8171205928321397, 1.912931182772389, 2.0, 2.080083823051904, 2.154434690031884]\n"
     ]
    }
   ],
   "source": [
    "#4->find the cube root of numbers from 1 to 10.\n",
    "print(list(i**(1/3)for i in range(1,11)))"
   ]
  },
  {
   "cell_type": "code",
   "execution_count": 5,
   "id": "8484b00a-6526-4857-870a-81f34f319a49",
   "metadata": {},
   "outputs": [
    {
     "name": "stdout",
     "output_type": "stream",
     "text": [
      "5 is even-> False\n",
      "4 is even-> True\n"
     ]
    }
   ],
   "source": [
    "#5->check if given number is even .\n",
    "is_even = lambda x: x%2==0\n",
    "print(\"5 is even->\",is_even(5))\n",
    "print(\"4 is even->\",is_even(4))"
   ]
  },
  {
   "cell_type": "code",
   "execution_count": 6,
   "id": "7751c362-7d7e-4a93-94ca-cc29766f78fb",
   "metadata": {},
   "outputs": [
    {
     "name": "stdout",
     "output_type": "stream",
     "text": [
      "list of odd numbers present in l [1, 3, 5, 7, 9]\n"
     ]
    }
   ],
   "source": [
    "#6->filter odd numbers from the given list .\n",
    "l= [1,2,3,4,5,6,7,8,9]\n",
    "print('list of odd numbers present in l',list(filter(lambda x : x%2!=0,l)))\n"
   ]
  },
  {
   "cell_type": "code",
   "execution_count": 7,
   "id": "6187831e-4187-4aab-a1e9-d62a7451f9a4",
   "metadata": {},
   "outputs": [
    {
     "name": "stdout",
     "output_type": "stream",
     "text": [
      "[1, 2, 3, 4, 5, 6] [-5, -4, -3, -2, -1]\n"
     ]
    }
   ],
   "source": [
    "#7->sort a list of intergers into positive and negative interger of lists.\n",
    "l1=[1,2,3,4,5,6,-1,-2,-3,-4,-5,0]\n",
    "positive_interger_list =list(filter(lambda x:x>0,l1))\n",
    "positive_interger_list.sort()\n",
    "negative_interger_list=list(filter(lambda y :y<0,l1))\n",
    "negative_interger_list.sort()\n",
    "print(positive_interger_list,negative_interger_list)"
   ]
  },
  {
   "cell_type": "code",
   "execution_count": null,
   "id": "cf921fdb-88c5-4ca1-a80f-6c107cf668c2",
   "metadata": {},
   "outputs": [],
   "source": []
  }
 ],
 "metadata": {
  "kernelspec": {
   "display_name": "Python 3 (ipykernel)",
   "language": "python",
   "name": "python3"
  },
  "language_info": {
   "codemirror_mode": {
    "name": "ipython",
    "version": 3
   },
   "file_extension": ".py",
   "mimetype": "text/x-python",
   "name": "python",
   "nbconvert_exporter": "python",
   "pygments_lexer": "ipython3",
   "version": "3.10.8"
  }
 },
 "nbformat": 4,
 "nbformat_minor": 5
}
